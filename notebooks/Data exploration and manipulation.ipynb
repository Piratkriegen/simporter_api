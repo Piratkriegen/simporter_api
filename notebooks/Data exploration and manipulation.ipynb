{
 "cells": [
  {
   "cell_type": "code",
   "execution_count": 1,
   "id": "846c260c",
   "metadata": {},
   "outputs": [],
   "source": [
    "import pandas as pd\n",
    "import numpy as np\n",
    "import matplotlib.pyplot as plt\n",
    "import seaborn as sns"
   ]
  },
  {
   "cell_type": "code",
   "execution_count": 2,
   "id": "78584cd1",
   "metadata": {},
   "outputs": [
    {
     "data": {
      "text/html": [
       "<div>\n",
       "<style scoped>\n",
       "    .dataframe tbody tr th:only-of-type {\n",
       "        vertical-align: middle;\n",
       "    }\n",
       "\n",
       "    .dataframe tbody tr th {\n",
       "        vertical-align: top;\n",
       "    }\n",
       "\n",
       "    .dataframe thead th {\n",
       "        text-align: right;\n",
       "    }\n",
       "</style>\n",
       "<table border=\"1\" class=\"dataframe\">\n",
       "  <thead>\n",
       "    <tr style=\"text-align: right;\">\n",
       "      <th></th>\n",
       "      <th>asin</th>\n",
       "      <th>brand</th>\n",
       "      <th>id</th>\n",
       "      <th>source</th>\n",
       "      <th>stars</th>\n",
       "    </tr>\n",
       "    <tr>\n",
       "      <th>timestamp</th>\n",
       "      <th></th>\n",
       "      <th></th>\n",
       "      <th></th>\n",
       "      <th></th>\n",
       "      <th></th>\n",
       "    </tr>\n",
       "  </thead>\n",
       "  <tbody>\n",
       "    <tr>\n",
       "      <th>2019-01-29 22:00:00</th>\n",
       "      <td>B0014D3N0Q</td>\n",
       "      <td>Downy</td>\n",
       "      <td>R11QPQWAH45REP</td>\n",
       "      <td>amazon</td>\n",
       "      <td>5</td>\n",
       "    </tr>\n",
       "    <tr>\n",
       "      <th>2019-01-07 22:00:00</th>\n",
       "      <td>B0014D3N0Q</td>\n",
       "      <td>Downy</td>\n",
       "      <td>R3RFSN6FNTQ4JI</td>\n",
       "      <td>amazon</td>\n",
       "      <td>5</td>\n",
       "    </tr>\n",
       "    <tr>\n",
       "      <th>2019-01-06 22:00:00</th>\n",
       "      <td>B0014D3N0Q</td>\n",
       "      <td>Downy</td>\n",
       "      <td>RVEQH20A3EP0A</td>\n",
       "      <td>amazon</td>\n",
       "      <td>3</td>\n",
       "    </tr>\n",
       "    <tr>\n",
       "      <th>2018-12-22 22:00:00</th>\n",
       "      <td>B0014D3N0Q</td>\n",
       "      <td>Downy</td>\n",
       "      <td>RC0ONQQQXLWR9</td>\n",
       "      <td>amazon</td>\n",
       "      <td>1</td>\n",
       "    </tr>\n",
       "    <tr>\n",
       "      <th>2018-11-26 22:00:00</th>\n",
       "      <td>B0014D3N0Q</td>\n",
       "      <td>Downy</td>\n",
       "      <td>R2OHUO09CNTE09</td>\n",
       "      <td>amazon</td>\n",
       "      <td>5</td>\n",
       "    </tr>\n",
       "    <tr>\n",
       "      <th>...</th>\n",
       "      <td>...</td>\n",
       "      <td>...</td>\n",
       "      <td>...</td>\n",
       "      <td>...</td>\n",
       "      <td>...</td>\n",
       "    </tr>\n",
       "    <tr>\n",
       "      <th>2019-02-05 22:00:00</th>\n",
       "      <td>B07H3RC7PN</td>\n",
       "      <td>Snuggle</td>\n",
       "      <td>R25BAXYN2GWZNP</td>\n",
       "      <td>amazon</td>\n",
       "      <td>5</td>\n",
       "    </tr>\n",
       "    <tr>\n",
       "      <th>2019-01-17 22:00:00</th>\n",
       "      <td>B07H3RC7PN</td>\n",
       "      <td>Snuggle</td>\n",
       "      <td>R2KT9B7LLO4LIH</td>\n",
       "      <td>amazon</td>\n",
       "      <td>5</td>\n",
       "    </tr>\n",
       "    <tr>\n",
       "      <th>2019-01-06 22:00:00</th>\n",
       "      <td>B07H3RC7PN</td>\n",
       "      <td>Snuggle</td>\n",
       "      <td>R916IC5U1YN92</td>\n",
       "      <td>amazon</td>\n",
       "      <td>5</td>\n",
       "    </tr>\n",
       "    <tr>\n",
       "      <th>2019-04-19 21:00:00</th>\n",
       "      <td>B07BRK19HN</td>\n",
       "      <td>Seventh Generation</td>\n",
       "      <td>R3FI2096P66KV5</td>\n",
       "      <td>amazon</td>\n",
       "      <td>5</td>\n",
       "    </tr>\n",
       "    <tr>\n",
       "      <th>2019-01-15 22:00:00</th>\n",
       "      <td>B07BRK19HN</td>\n",
       "      <td>Seventh Generation</td>\n",
       "      <td>R2GPGHIZ7ZQX6B</td>\n",
       "      <td>amazon</td>\n",
       "      <td>4</td>\n",
       "    </tr>\n",
       "  </tbody>\n",
       "</table>\n",
       "<p>34824 rows × 5 columns</p>\n",
       "</div>"
      ],
      "text/plain": [
       "                           asin               brand              id  source  \\\n",
       "timestamp                                                                     \n",
       "2019-01-29 22:00:00  B0014D3N0Q               Downy  R11QPQWAH45REP  amazon   \n",
       "2019-01-07 22:00:00  B0014D3N0Q               Downy  R3RFSN6FNTQ4JI  amazon   \n",
       "2019-01-06 22:00:00  B0014D3N0Q               Downy   RVEQH20A3EP0A  amazon   \n",
       "2018-12-22 22:00:00  B0014D3N0Q               Downy   RC0ONQQQXLWR9  amazon   \n",
       "2018-11-26 22:00:00  B0014D3N0Q               Downy  R2OHUO09CNTE09  amazon   \n",
       "...                         ...                 ...             ...     ...   \n",
       "2019-02-05 22:00:00  B07H3RC7PN             Snuggle  R25BAXYN2GWZNP  amazon   \n",
       "2019-01-17 22:00:00  B07H3RC7PN             Snuggle  R2KT9B7LLO4LIH  amazon   \n",
       "2019-01-06 22:00:00  B07H3RC7PN             Snuggle   R916IC5U1YN92  amazon   \n",
       "2019-04-19 21:00:00  B07BRK19HN  Seventh Generation  R3FI2096P66KV5  amazon   \n",
       "2019-01-15 22:00:00  B07BRK19HN  Seventh Generation  R2GPGHIZ7ZQX6B  amazon   \n",
       "\n",
       "                     stars  \n",
       "timestamp                   \n",
       "2019-01-29 22:00:00      5  \n",
       "2019-01-07 22:00:00      5  \n",
       "2019-01-06 22:00:00      3  \n",
       "2018-12-22 22:00:00      1  \n",
       "2018-11-26 22:00:00      5  \n",
       "...                    ...  \n",
       "2019-02-05 22:00:00      5  \n",
       "2019-01-17 22:00:00      5  \n",
       "2019-01-06 22:00:00      5  \n",
       "2019-04-19 21:00:00      5  \n",
       "2019-01-15 22:00:00      4  \n",
       "\n",
       "[34824 rows x 5 columns]"
      ]
     },
     "execution_count": 2,
     "metadata": {},
     "output_type": "execute_result"
    }
   ],
   "source": [
    "data = pd.read_csv('../raw_data/data.csv', sep=';')\n",
    "data['timestamp'] = pd.to_datetime(data['timestamp'], unit='s')\n",
    "data.set_index('timestamp', inplace=True)\n",
    "\n",
    "data"
   ]
  },
  {
   "cell_type": "code",
   "execution_count": 3,
   "id": "fa0e7407",
   "metadata": {},
   "outputs": [
    {
     "ename": "SyntaxError",
     "evalue": "invalid syntax (465666551.py, line 2)",
     "output_type": "error",
     "traceback": [
      "\u001b[0;36m  Input \u001b[0;32mIn [3]\u001b[0;36m\u001b[0m\n\u001b[0;31m    if\u001b[0m\n\u001b[0m      ^\u001b[0m\n\u001b[0;31mSyntaxError\u001b[0m\u001b[0;31m:\u001b[0m invalid syntax\n"
     ]
    }
   ],
   "source": [
    "def filter_data(df, **att):\n",
    "    if\n",
    "    \n",
    "    \n",
    "    return df\n",
    "\n",
    "def calculate_price(value, **kwargs):\n",
    "    tax_percentage = kwargs.get('tax_percentage')\n",
    "    discount = kwargs.get('discount')    if tax_percentage:\n",
    "        value += value * (tax_percentage / 100)\n",
    "    if discount:\n",
    "        value -= discount  \n",
    "        return value"
   ]
  },
  {
   "cell_type": "code",
   "execution_count": null,
   "id": "276d206a",
   "metadata": {},
   "outputs": [],
   "source": [
    "attributes = {\n",
    "                'brand': ['Snuggle','Downy'],\n",
    "                'stars': [5]\n",
    "            }"
   ]
  },
  {
   "cell_type": "code",
   "execution_count": 11,
   "id": "d0e7a9fd",
   "metadata": {},
   "outputs": [
    {
     "name": "stdout",
     "output_type": "stream",
     "text": [
      "1546308000 1577847600\n"
     ]
    }
   ],
   "source": [
    "from datetime import datetime\n",
    "import time\n",
    "\n",
    "starteDate = '2019-01-01'\n",
    "endeDate = '2020-01-01'\n",
    "\n",
    "\n",
    "startDate = int(\n",
    "        time.mktime(\n",
    "            datetime.strptime(starteDate, \"%Y-%m-%d\").timetuple()))\n",
    "endDate = int(\n",
    "        time.mktime(\n",
    "            datetime.strptime(endeDate, \"%Y-%m-%d\").timetuple()))\n",
    "\n",
    "print(startDate, endDate)"
   ]
  },
  {
   "cell_type": "code",
   "execution_count": 12,
   "id": "ea93c7f9",
   "metadata": {},
   "outputs": [
    {
     "name": "stdout",
     "output_type": "stream",
     "text": [
      "1546308000\n"
     ]
    }
   ],
   "source": [
    "def parse_date(dt):\n",
    "    return int(time.mktime(datetime.strptime(dt, \"%Y-%m-%d\").timetuple()))\n",
    "\n",
    "print(parse_date('2019-01-01'))"
   ]
  }
 ],
 "metadata": {
  "kernelspec": {
   "display_name": "Python 3 (ipykernel)",
   "language": "python",
   "name": "python3"
  },
  "language_info": {
   "codemirror_mode": {
    "name": "ipython",
    "version": 3
   },
   "file_extension": ".py",
   "mimetype": "text/x-python",
   "name": "python",
   "nbconvert_exporter": "python",
   "pygments_lexer": "ipython3",
   "version": "3.8.12"
  },
  "toc": {
   "base_numbering": 1,
   "nav_menu": {},
   "number_sections": true,
   "sideBar": true,
   "skip_h1_title": false,
   "title_cell": "Table of Contents",
   "title_sidebar": "Contents",
   "toc_cell": false,
   "toc_position": {},
   "toc_section_display": true,
   "toc_window_display": false
  },
  "varInspector": {
   "cols": {
    "lenName": 16,
    "lenType": 16,
    "lenVar": 40
   },
   "kernels_config": {
    "python": {
     "delete_cmd_postfix": "",
     "delete_cmd_prefix": "del ",
     "library": "var_list.py",
     "varRefreshCmd": "print(var_dic_list())"
    },
    "r": {
     "delete_cmd_postfix": ") ",
     "delete_cmd_prefix": "rm(",
     "library": "var_list.r",
     "varRefreshCmd": "cat(var_dic_list()) "
    }
   },
   "types_to_exclude": [
    "module",
    "function",
    "builtin_function_or_method",
    "instance",
    "_Feature"
   ],
   "window_display": false
  }
 },
 "nbformat": 4,
 "nbformat_minor": 5
}
